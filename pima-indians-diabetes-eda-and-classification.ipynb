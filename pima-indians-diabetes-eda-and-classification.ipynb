{
 "cells": [
  {
   "cell_type": "code",
   "execution_count": 5,
   "metadata": {
    "_cell_guid": "b1076dfc-b9ad-4769-8c92-a6c4dae69d19",
    "_uuid": "8f2839f25d086af736a60e9eeb907d3b93b6e0e5"
   },
   "outputs": [],
   "source": [
    "# This Python 3 environment comes with many helpful analytics libraries installed\n",
    "# It is defined by the kaggle/python Docker image: https://github.com/kaggle/docker-python\n",
    "# For example, here's several helpful packages to load\n",
    "\n",
    "import numpy as np # linear algebra\n",
    "import pandas as pd # data processing, CSV file I/O (e.g. pd.read_csv)\n",
    "import matplotlib.pyplot as plt\n",
    "import seaborn as sns\n",
    "from sklearn.preprocessing import RobustScaler\n",
    "from sklearn.model_selection import train_test_split\n",
    "from sklearn.metrics import accuracy_score\n",
    "from sklearn.ensemble import RandomForestClassifier\n",
    "# Input data files are available in the read-only \"../input/\" directory\n",
    "# For example, running this (by clicking run or pressing Shift+Enter) will list all files under the input directory\n",
    "\n",
    "# import os\n",
    "# for dirname, _, filenames in os.walk('/kaggle/input'):\n",
    "#     for filename in filenames:\n",
    "#         print(os.path.join(dirname, filename))\n",
    "\n",
    "# # You can write up to 20GB to the current directory (/kaggle/working/) that gets preserved as output when you create a version using \"Save & Run All\" \n",
    "# # You can also write temporary files to /kaggle/temp/, but they won't be saved outside of the current session\n",
    "\n",
    "import warnings\n",
    "warnings.filterwarnings(\"ignore\")"
   ]
  },
  {
   "cell_type": "markdown",
   "metadata": {},
   "source": [
    "<a id=\"1\" ></a>\n",
    "## Data Content\n",
    "**Pregnancies :** Number of pregnancies\n",
    "\n",
    "**Glucose :** Glucose rate in person\n",
    "\n",
    "**BloodPressure :** Blood pressure in person\n",
    "\n",
    "**SkinThickness :** Person's skin thickness\n",
    "\n",
    "**Insulin :** Insulin rate in person\n",
    "\n",
    "**BMI :** Body mass index\n",
    "\n",
    "**DiabetesPedigreeFunction :** A function that calculates our chances of having diabetes based on people in our ancestry\n",
    "\n",
    "**Age :** Age\n",
    "\n",
    "**Outcome :** Information about whether the person has diabetes or not (1 with the disease, 0 not sick)\n"
   ]
  },
  {
   "cell_type": "markdown",
   "metadata": {},
   "source": [
    "<a id=\"2\" ></a>\n",
    "## Read and Analyse Data"
   ]
  },
  {
   "cell_type": "code",
   "execution_count": 6,
   "metadata": {},
   "outputs": [
    {
     "name": "stdout",
     "output_type": "stream",
     "text": [
      "Success\n"
     ]
    }
   ],
   "source": [
    "data = pd.read_csv(\"diabetes.csv\") \n",
    "print(\"Success\")"
   ]
  },
  {
   "cell_type": "code",
   "execution_count": 7,
   "metadata": {},
   "outputs": [
    {
     "name": "stdout",
     "output_type": "stream",
     "text": [
      "####################  Shape  #####################\n",
      "(768, 9)\n",
      "\n",
      "\n",
      "####################  Types  #####################\n",
      "Pregnancies                   int64\n",
      "Glucose                       int64\n",
      "BloodPressure                 int64\n",
      "SkinThickness                 int64\n",
      "Insulin                       int64\n",
      "BMI                         float64\n",
      "DiabetesPedigreeFunction    float64\n",
      "Age                           int64\n",
      "Outcome                       int64\n",
      "dtype: object\n",
      "\n",
      "\n",
      "#####################  Head  #####################\n",
      "   Pregnancies  Glucose  BloodPressure  SkinThickness  Insulin   BMI  \\\n",
      "0            6      148             72             35        0  33.6   \n",
      "1            1       85             66             29        0  26.6   \n",
      "2            8      183             64              0        0  23.3   \n",
      "3            1       89             66             23       94  28.1   \n",
      "4            0      137             40             35      168  43.1   \n",
      "\n",
      "   DiabetesPedigreeFunction  Age  Outcome  \n",
      "0                     0.627   50        1  \n",
      "1                     0.351   31        0  \n",
      "2                     0.672   32        1  \n",
      "3                     0.167   21        0  \n",
      "4                     2.288   33        1  \n",
      "\n",
      "\n",
      "#####################  Tail  #####################\n",
      "     Pregnancies  Glucose  BloodPressure  SkinThickness  Insulin   BMI  \\\n",
      "763           10      101             76             48      180  32.9   \n",
      "764            2      122             70             27        0  36.8   \n",
      "765            5      121             72             23      112  26.2   \n",
      "766            1      126             60              0        0  30.1   \n",
      "767            1       93             70             31        0  30.4   \n",
      "\n",
      "     DiabetesPedigreeFunction  Age  Outcome  \n",
      "763                     0.171   63        0  \n",
      "764                     0.340   27        0  \n",
      "765                     0.245   30        0  \n",
      "766                     0.349   47        1  \n",
      "767                     0.315   23        0  \n",
      "\n",
      "\n",
      "#####################  Nan  ######################\n",
      "Pregnancies                 0\n",
      "Glucose                     0\n",
      "BloodPressure               0\n",
      "SkinThickness               0\n",
      "Insulin                     0\n",
      "BMI                         0\n",
      "DiabetesPedigreeFunction    0\n",
      "Age                         0\n",
      "Outcome                     0\n",
      "dtype: int64\n",
      "\n",
      "\n",
      "##################  Quantiles  ###################\n",
      "                            0.00      0.05      0.50       0.95    1.00\n",
      "Pregnancies                0.000   0.00000    3.0000   10.00000   17.00\n",
      "Glucose                    0.000  79.00000  117.0000  181.00000  199.00\n",
      "BloodPressure              0.000  38.70000   72.0000   90.00000  122.00\n",
      "SkinThickness              0.000   0.00000   23.0000   44.00000   99.00\n",
      "Insulin                    0.000   0.00000   30.5000  293.00000  846.00\n",
      "BMI                        0.000  21.80000   32.0000   44.39500   67.10\n",
      "DiabetesPedigreeFunction   0.078   0.14035    0.3725    1.13285    2.42\n",
      "Age                       21.000  21.00000   29.0000   58.00000   81.00\n",
      "Outcome                    0.000   0.00000    0.0000    1.00000    1.00\n"
     ]
    }
   ],
   "source": [
    "def check(df):\n",
    "    print(\"  Shape  \".center(50, \"#\"))\n",
    "    print(df.shape)\n",
    "    print(\"\\n\")\n",
    "    print(\"  Types  \".center(50, \"#\"))\n",
    "    print(df.dtypes)\n",
    "    print(\"\\n\")\n",
    "    print(\"  Head  \".center(50, \"#\"))\n",
    "    print(df.head())\n",
    "    print(\"\\n\")\n",
    "    print(\"  Tail  \".center(50, \"#\"))\n",
    "    print(df.tail())\n",
    "    print(\"\\n\")\n",
    "    print(\"  Nan  \".center(50, \"#\"))\n",
    "    print(df.isnull().sum())\n",
    "    print(\"\\n\")\n",
    "    print(\"  Quantiles  \".center(50, \"#\"))\n",
    "    print(df.quantile([0, 0.05, 0.5, 0.95, 1]).T)\n",
    "\n",
    "check(data)\n",
    "\n",
    "# Result: When we examine the data, we can see that it is numeric and float type. \n",
    "# It also does not contain missing data. When we examine the content of the variables, \n",
    "# the number of pregnancies being 17 is a suspicious situation, and glucose, blood pressure, \n",
    "# skin thickness, insulin height mass index min value should be examined as it is not possible \n",
    "# for a living person to have a min value of 0. In addition, although the insulin value was 519 at 99%, \n",
    "# the maximum value was 846, which raised suspicion of a discrete value because it was a sudden increase."
   ]
  },
  {
   "cell_type": "code",
   "execution_count": 8,
   "metadata": {},
   "outputs": [
    {
     "name": "stdout",
     "output_type": "stream",
     "text": [
      "Total Rows : 768\n",
      "Total Column: 9\n",
      "Total Categorical Column : 1\n",
      "Total Numeric Columns : 8\n",
      "Total Categorical Cardinal Column : 0\n",
      "Total Numeric Categorical Column : 1\n"
     ]
    },
    {
     "data": {
      "text/plain": [
       "['Pregnancies',\n",
       " 'Glucose',\n",
       " 'BloodPressure',\n",
       " 'SkinThickness',\n",
       " 'Insulin',\n",
       " 'BMI',\n",
       " 'DiabetesPedigreeFunction',\n",
       " 'Age']"
      ]
     },
     "execution_count": 8,
     "metadata": {},
     "output_type": "execute_result"
    }
   ],
   "source": [
    "# Let's examine the data types\n",
    "def analyze_columns(df, threshold1=10, threshold2=20):\n",
    "    categoric_cols = [col for col in df.columns if df[col].dtype == \"O\"]\n",
    "    numeric_categoric = [col for col in df.columns if df[col].nunique() < threshold1 and df[col].dtype != \"O\"]\n",
    "    categoric_cardinal = [col for col in df.columns if df[col].nunique() > threshold2 and df[col].dtype == \"O\"]\n",
    "    categoric_cols = categoric_cols + numeric_categoric\n",
    "    categoric_cols = [col for col in categoric_cols if col not in categoric_cardinal]\n",
    "\n",
    "    numeric_cols = [col for col in df.columns if df[col].dtype != \"O\"]\n",
    "    numeric_cols = [col for col in numeric_cols if col not in numeric_categoric]\n",
    "\n",
    "    print(f\"Total Rows : {df.shape[0]}\")\n",
    "    print(f\"Total Column: {df.shape[1]}\")\n",
    "    print(f\"Total Categorical Column : {len(categoric_cols)}\")\n",
    "    print(f\"Total Numeric Columns : {len(numeric_cols)}\")\n",
    "    print(f\"Total Categorical Cardinal Column : {len(categoric_cardinal)}\")\n",
    "    print(f\"Total Numeric Categorical Column : {len(numeric_categoric)}\")\n",
    "    return(numeric_cols)\n",
    "analyze_columns(data)"
   ]
  },
  {
   "cell_type": "code",
   "execution_count": 9,
   "metadata": {},
   "outputs": [
    {
     "name": "stdout",
     "output_type": "stream",
     "text": [
      "### Pregnancies - Outcome ####\n",
      "              Outcome\n",
      "Pregnancies          \n",
      "17           1.000000\n",
      "14           1.000000\n",
      "15           1.000000\n",
      "9            0.642857\n",
      "11           0.636364\n",
      "              Outcome\n",
      "Pregnancies          \n",
      "0            0.342342\n",
      "4            0.338235\n",
      "6            0.320000\n",
      "1            0.214815\n",
      "2            0.184466\n",
      "-------------------------\n",
      "##### Glucose - Outcome ######\n",
      "         Outcome\n",
      "Glucose         \n",
      "199          1.0\n",
      "181          1.0\n",
      "149          1.0\n",
      "198          1.0\n",
      "156          1.0\n",
      "         Outcome\n",
      "Glucose         \n",
      "127          0.0\n",
      "191          0.0\n",
      "157          0.0\n",
      "110          0.0\n",
      "99           0.0\n",
      "-------------------------\n",
      "## BloodPressure - Outcome ###\n",
      "                Outcome\n",
      "BloodPressure          \n",
      "40             1.000000\n",
      "114            1.000000\n",
      "104            1.000000\n",
      "102            1.000000\n",
      "110            0.666667\n",
      "               Outcome\n",
      "BloodPressure         \n",
      "44                 0.0\n",
      "95                 0.0\n",
      "38                 0.0\n",
      "24                 0.0\n",
      "122                0.0\n",
      "-------------------------\n",
      "## SkinThickness - Outcome ###\n",
      "               Outcome\n",
      "SkinThickness         \n",
      "99                 1.0\n",
      "63                 1.0\n",
      "51                 1.0\n",
      "49                 1.0\n",
      "56                 1.0\n",
      "               Outcome\n",
      "SkinThickness         \n",
      "11                 0.0\n",
      "10                 0.0\n",
      "8                  0.0\n",
      "60                 0.0\n",
      "50                 0.0\n",
      "-------------------------\n",
      "##### Insulin - Outcome ######\n",
      "         Outcome\n",
      "Insulin         \n",
      "846          1.0\n",
      "300          1.0\n",
      "277          1.0\n",
      "274          1.0\n",
      "271          1.0\n",
      "         Outcome\n",
      "Insulin         \n",
      "265          0.0\n",
      "116          0.0\n",
      "119          0.0\n",
      "326          0.0\n",
      "86           0.0\n",
      "-------------------------\n",
      "####### BMI - Outcome ########\n",
      "      Outcome\n",
      "BMI          \n",
      "67.1      1.0\n",
      "42.3      1.0\n",
      "30.3      1.0\n",
      "44.1      1.0\n",
      "44.0      1.0\n",
      "      Outcome\n",
      "BMI          \n",
      "30.2      0.0\n",
      "43.5      0.0\n",
      "30.7      0.0\n",
      "42.8      0.0\n",
      "28.8      0.0\n",
      "-------------------------\n",
      " DiabetesPedigreeFunction - Outcome \n",
      "                          Outcome\n",
      "DiabetesPedigreeFunction         \n",
      "2.420                         1.0\n",
      "0.467                         1.0\n",
      "0.615                         1.0\n",
      "0.613                         1.0\n",
      "0.593                         1.0\n",
      "                          Outcome\n",
      "DiabetesPedigreeFunction         \n",
      "0.453                         0.0\n",
      "0.454                         0.0\n",
      "0.457                         0.0\n",
      "0.460                         0.0\n",
      "0.078                         0.0\n",
      "-------------------------\n",
      "####### Age - Outcome ########\n",
      "      Outcome\n",
      "Age          \n",
      "70   1.000000\n",
      "52   0.875000\n",
      "43   0.846154\n",
      "53   0.800000\n",
      "54   0.666667\n",
      "     Outcome\n",
      "Age         \n",
      "64       0.0\n",
      "65       0.0\n",
      "68       0.0\n",
      "69       0.0\n",
      "81       0.0\n",
      "-------------------------\n"
     ]
    }
   ],
   "source": [
    "# Relationship between variables and target variable\n",
    "for col in data.columns[:-1]:\n",
    "    print(f\" {col} - Outcome \".center(30, \"#\"))\n",
    "    print(data[[col, \"Outcome\"]].groupby([col]).mean().sort_values(by=\"Outcome\")[::-1].head())\n",
    "    print(data[[col, \"Outcome\"]].groupby([col]).mean().sort_values(by=\"Outcome\")[::-1].tail())\n",
    "    print(\"-\"*25)\n"
   ]
  },
  {
   "cell_type": "code",
   "execution_count": 10,
   "metadata": {},
   "outputs": [
    {
     "data": {
      "image/png": "[encoded data removed]",
      "text/plain": [
       "<Figure size 640x480 with 2 Axes>"
      ]
     },
     "metadata": {},
     "output_type": "display_data"
    }
   ],
   "source": [
    "# Correlation check\n",
    "sns.heatmap(data.corr(), annot=True, fmt=\".2f\")\n",
    "plt.show()"
   ]
  },
  {
   "cell_type": "markdown",
   "metadata": {},
   "source": [
    "<a id=\"3\" ></a>\n",
    "## Base Model"
   ]
  },
  {
   "cell_type": "code",
   "execution_count": 11,
   "metadata": {},
   "outputs": [
    {
     "name": "stdout",
     "output_type": "stream",
     "text": [
      "Success score : 0.77\n"
     ]
    }
   ],
   "source": [
    "# Let's create a base model\n",
    "X = data.drop(\"Outcome\", axis=1)\n",
    "y = data[\"Outcome\"]\n",
    "\n",
    "X_train, X_test, y_train, y_test = train_test_split(X, y, test_size=0.3, random_state=17)\n",
    "\n",
    "model = RandomForestClassifier()\n",
    "model.fit(X_train, y_train)\n",
    "y_pred = model.predict(X_test)\n",
    "\n",
    "print(f\"Success score : {round(accuracy_score(y_test, y_pred), 2)}\")"
   ]
  },
  {
   "cell_type": "code",
   "execution_count": 12,
   "metadata": {},
   "outputs": [
    {
     "data": {
      "image/png": "[encoded data removed]",
      "text/plain": [
       "<Figure size 1000x1000 with 1 Axes>"
      ]
     },
     "metadata": {},
     "output_type": "display_data"
    }
   ],
   "source": [
    "def plot_importance(model, features, num):\n",
    "    feature_imp = pd.DataFrame({\"Value\" : model.feature_importances_, \n",
    "                                \"Features\" : features.columns})\n",
    "    plt.figure(figsize=(10,10))\n",
    "    sns.barplot(data=feature_imp.sort_values(by=\"Value\", ascending=False)[0:num], x=\"Value\", y=\"Features\")\n",
    "    plt.show()\n",
    "plot_importance(model, X, len(X))\n",
    "# Result: Glucose was the variable that had a high impact on the success of the model."
   ]
  },
  {
   "cell_type": "markdown",
   "metadata": {},
   "source": [
    "<a id=\"4\" ></a>\n",
    "## Missing Values"
   ]
  },
  {
   "cell_type": "code",
   "execution_count": 13,
   "metadata": {},
   "outputs": [
    {
     "name": "stdout",
     "output_type": "stream",
     "text": [
      "Columns containing zeros : ['Glucose', 'BloodPressure', 'SkinThickness', 'Insulin', 'BMI']\n"
     ]
    }
   ],
   "source": [
    "# Since variables other than Pregnancy and Outcome variables cannot have a value of 0, let's replace these variables with Nan.\n",
    "zero_columns = [col for col in data.columns if(data[col].min() == 0 and col not in [\"Pregnancies\", \"Outcome\"])]\n",
    "print(f\"Columns containing zeros : {zero_columns}\")"
   ]
  },
  {
   "cell_type": "code",
   "execution_count": 14,
   "metadata": {},
   "outputs": [
    {
     "name": "stdout",
     "output_type": "stream",
     "text": [
      "Success\n"
     ]
    }
   ],
   "source": [
    "for col in zero_columns:\n",
    "    data[col] = np.where(data[col]==0, np.nan, data[col])\n",
    "print(\"Success\")"
   ]
  },
  {
   "cell_type": "code",
   "execution_count": 15,
   "metadata": {},
   "outputs": [
    {
     "data": {
      "text/plain": [
       "Pregnancies                   0\n",
       "Glucose                       5\n",
       "BloodPressure                35\n",
       "SkinThickness               227\n",
       "Insulin                     374\n",
       "BMI                          11\n",
       "DiabetesPedigreeFunction      0\n",
       "Age                           0\n",
       "Outcome                       0\n",
       "dtype: int64"
      ]
     },
     "execution_count": 15,
     "metadata": {},
     "output_type": "execute_result"
    }
   ],
   "source": [
    "# Let's look at the number of null values\n",
    "data.isnull().sum()"
   ]
  },
  {
   "cell_type": "code",
   "execution_count": 16,
   "metadata": {},
   "outputs": [
    {
     "name": "stdout",
     "output_type": "stream",
     "text": [
      "               missing_number  ratio\n",
      "Insulin                   374  48.70\n",
      "SkinThickness             227  29.56\n",
      "BloodPressure              35   4.56\n",
      "BMI                        11   1.43\n",
      "Glucose                     5   0.65\n",
      "\n",
      "Total Missing Values : 652\n",
      "\n"
     ]
    }
   ],
   "source": [
    "# What is the rate of missing data? How valuable is it?\n",
    "def missing_values(df):\n",
    "    nan_columns = [col for col in df.columns if df[col].isnull().sum() > 0]\n",
    "    num_miss = df[nan_columns].isnull().sum().sort_values(ascending=False)\n",
    "    ratio = (df[nan_columns].isnull().sum() / df.shape[0] * 100).sort_values(ascending=False)\n",
    "    missing_df = pd.concat([num_miss, np.round(ratio, 2)], axis=1, keys=[\"missing_number\", \"ratio\"])\n",
    "    print(missing_df, end=\"\\n\")\n",
    "    print(f\"\\nTotal Missing Values : {num_miss.sum()}\\n\")\n",
    "missing_values(data)  \n",
    "# Insulin missing data covers 48% of the data"
   ]
  },
  {
   "cell_type": "code",
   "execution_count": 17,
   "metadata": {},
   "outputs": [
    {
     "name": "stdout",
     "output_type": "stream",
     "text": [
      "##### Glucose - Outcome ######\n",
      "Number of Missing Values : 5\n",
      "Number of Filled Values  : 763\n",
      "Missing Value Rate : 0.4\n",
      "Occupied Value Rate : 0.35\n",
      "------------------------------\n",
      "## BloodPressure - Outcome ###\n",
      "Number of Missing Values : 35\n",
      "Number of Filled Values  : 733\n",
      "Missing Value Rate : 0.46\n",
      "Occupied Value Rate : 0.34\n",
      "------------------------------\n",
      "## SkinThickness - Outcome ###\n",
      "Number of Missing Values : 227\n",
      "Number of Filled Values  : 541\n",
      "Missing Value Rate : 0.39\n",
      "Occupied Value Rate : 0.33\n",
      "------------------------------\n",
      "##### Insulin - Outcome ######\n",
      "Number of Missing Values : 374\n",
      "Number of Filled Values  : 394\n",
      "Missing Value Rate : 0.37\n",
      "Occupied Value Rate : 0.33\n",
      "------------------------------\n",
      "####### BMI - Outcome ########\n",
      "Number of Missing Values : 11\n",
      "Number of Filled Values  : 757\n",
      "Missing Value Rate : 0.18\n",
      "Occupied Value Rate : 0.35\n",
      "------------------------------\n"
     ]
    }
   ],
   "source": [
    "# Do null values have any relation to the target variable?\n",
    "for col in zero_columns:\n",
    "    print(f\" {col} - Outcome \".center(30, \"#\"))\n",
    "    print(f\"Number of Missing Values : {len(data.loc[data[col].isnull()])}\")\n",
    "    print(f\"Number of Filled Values  : {len(data.loc[data[col].notnull()])}\")\n",
    "    mean_with_missing = data.loc[data[col].isnull(), \"Outcome\"].mean()\n",
    "    print(f\"Missing Value Rate : {round(mean_with_missing, 2)}\")\n",
    "    mean_without_missing = data.loc[data[col].notnull(), \"Outcome\"].mean()\n",
    "    print(f\"Occupied Value Rate : {round(mean_without_missing, 2)}\")\n",
    "    print(\"-\"*30)\n",
    "# Result: Null values for skin thickness and insulin do not affect many target variables."
   ]
  },
  {
   "cell_type": "code",
   "execution_count": 18,
   "metadata": {},
   "outputs": [
    {
     "name": "stdout",
     "output_type": "stream",
     "text": [
      "Success\n"
     ]
    }
   ],
   "source": [
    "# Let's fill in the missing values\n",
    "for col in zero_columns:\n",
    "    data[col].fillna(data[col].median(), inplace=True)\n",
    "print(\"Success\")"
   ]
  },
  {
   "cell_type": "code",
   "execution_count": 19,
   "metadata": {},
   "outputs": [
    {
     "data": {
      "text/plain": [
       "Pregnancies                 0\n",
       "Glucose                     0\n",
       "BloodPressure               0\n",
       "SkinThickness               0\n",
       "Insulin                     0\n",
       "BMI                         0\n",
       "DiabetesPedigreeFunction    0\n",
       "Age                         0\n",
       "Outcome                     0\n",
       "dtype: int64"
      ]
     },
     "execution_count": 19,
     "metadata": {},
     "output_type": "execute_result"
    }
   ],
   "source": [
    "data.isnull().sum()"
   ]
  },
  {
   "cell_type": "markdown",
   "metadata": {},
   "source": [
    "<a id=\"5\" ></a>\n",
    "## Outliers"
   ]
  },
  {
   "cell_type": "code",
   "execution_count": 20,
   "metadata": {},
   "outputs": [
    {
     "name": "stdout",
     "output_type": "stream",
     "text": [
      "Pregnancies : False\n",
      "Glucose : False\n",
      "BloodPressure : True\n",
      "SkinThickness : True\n",
      "Insulin : True\n",
      "BMI : False\n",
      "DiabetesPedigreeFunction : False\n",
      "Age : False\n",
      "Outcome : False\n"
     ]
    }
   ],
   "source": [
    "def outlier_tresholds(df, col_name, q1=0.05, q3=0.95):\n",
    "    quartiel1 = df[col_name].quantile(q1)\n",
    "    quartiel3 = df[col_name].quantile(q3)\n",
    "    quartiel_range = quartiel3 - quartiel1\n",
    "    up = quartiel3 + 1.5*quartiel_range\n",
    "    down = quartiel3 - 1.5*quartiel_range\n",
    "    return(up, down)\n",
    "\n",
    "def check_outlier(df, col_name):\n",
    "    up, down = outlier_tresholds(df, col_name)\n",
    "    filter = df[(df[col_name] > up) | (df[col_name] < down)].any(axis=None) \n",
    "    if(filter == True):\n",
    "        return(True)\n",
    "    else:\n",
    "        return(False)\n",
    "\n",
    "def replace_outliers(df, col_name, q1=0.05, q3=0.95):\n",
    "    up, down = outlier_tresholds(df, col_name)\n",
    "    df.loc[(df[col_name] < down), col_name] = down\n",
    "    df.loc[(df[col_name] > up), col_name] = up\n",
    "\n",
    "for col in data.columns:\n",
    "    print(f\"{col} : {check_outlier(data, col)}\") \n",
    "    if(check_outlier(data, col)==True): \n",
    "        replace_outliers(data, col)"
   ]
  },
  {
   "cell_type": "code",
   "execution_count": 21,
   "metadata": {},
   "outputs": [
    {
     "name": "stdout",
     "output_type": "stream",
     "text": [
      "------------------------------\n",
      "Pregnancies : False\n",
      "Glucose : False\n",
      "BloodPressure : False\n",
      "SkinThickness : False\n",
      "Insulin : False\n",
      "BMI : False\n",
      "DiabetesPedigreeFunction : False\n",
      "Age : False\n",
      "Outcome : False\n"
     ]
    }
   ],
   "source": [
    "# Let's check\n",
    "print(\"-\"*30)\n",
    "for col in data.columns:\n",
    "    print(f\"{col} : {check_outlier(data, col)}\")"
   ]
  },
  {
   "cell_type": "markdown",
   "metadata": {},
   "source": [
    "<a id=\"6\"></a>\n",
    "## Feature Extraction"
   ]
  },
  {
   "cell_type": "code",
   "execution_count": 22,
   "metadata": {},
   "outputs": [
    {
     "data": {
      "text/html": [
       "<div>\n",
       "<style scoped>\n",
       "    .dataframe tbody tr th:only-of-type {\n",
       "        vertical-align: middle;\n",
       "    }\n",
       "\n",
       "    .dataframe tbody tr th {\n",
       "        vertical-align: top;\n",
       "    }\n",
       "\n",
       "    .dataframe thead th {\n",
       "        text-align: right;\n",
       "    }\n",
       "</style>\n",
       "<table border=\"1\" class=\"dataframe\">\n",
       "  <thead>\n",
       "    <tr style=\"text-align: right;\">\n",
       "      <th></th>\n",
       "      <th>Pregnancies</th>\n",
       "      <th>Glucose</th>\n",
       "      <th>BloodPressure</th>\n",
       "      <th>SkinThickness</th>\n",
       "      <th>Insulin</th>\n",
       "      <th>BMI</th>\n",
       "      <th>DiabetesPedigreeFunction</th>\n",
       "      <th>Age</th>\n",
       "      <th>Outcome</th>\n",
       "      <th>New_Age</th>\n",
       "      <th>New_BMI</th>\n",
       "      <th>New_Glucose</th>\n",
       "      <th>New_Age_BMI</th>\n",
       "      <th>New_Age_Glucose</th>\n",
       "      <th>New_Insulin</th>\n",
       "      <th>Glıcose_Insulin</th>\n",
       "      <th>Glıcose_Pregnancies</th>\n",
       "    </tr>\n",
       "  </thead>\n",
       "  <tbody>\n",
       "    <tr>\n",
       "      <th>0</th>\n",
       "      <td>6</td>\n",
       "      <td>148.0</td>\n",
       "      <td>72.0</td>\n",
       "      <td>35.0</td>\n",
       "      <td>125.0</td>\n",
       "      <td>33.6</td>\n",
       "      <td>0.627</td>\n",
       "      <td>50</td>\n",
       "      <td>1</td>\n",
       "      <td>0</td>\n",
       "      <td>obese</td>\n",
       "      <td>prediabetes</td>\n",
       "      <td>obese_senior</td>\n",
       "      <td>high_senior</td>\n",
       "      <td>1</td>\n",
       "      <td>18500.0</td>\n",
       "      <td>888.0</td>\n",
       "    </tr>\n",
       "    <tr>\n",
       "      <th>1</th>\n",
       "      <td>1</td>\n",
       "      <td>85.0</td>\n",
       "      <td>66.0</td>\n",
       "      <td>29.0</td>\n",
       "      <td>125.0</td>\n",
       "      <td>26.6</td>\n",
       "      <td>0.351</td>\n",
       "      <td>31</td>\n",
       "      <td>0</td>\n",
       "      <td>1</td>\n",
       "      <td>overweight</td>\n",
       "      <td>normal</td>\n",
       "      <td>overweight_mature</td>\n",
       "      <td>normal_mature</td>\n",
       "      <td>1</td>\n",
       "      <td>10625.0</td>\n",
       "      <td>85.0</td>\n",
       "    </tr>\n",
       "    <tr>\n",
       "      <th>2</th>\n",
       "      <td>8</td>\n",
       "      <td>183.0</td>\n",
       "      <td>64.0</td>\n",
       "      <td>29.0</td>\n",
       "      <td>125.0</td>\n",
       "      <td>23.3</td>\n",
       "      <td>0.672</td>\n",
       "      <td>32</td>\n",
       "      <td>1</td>\n",
       "      <td>1</td>\n",
       "      <td>healthy</td>\n",
       "      <td>prediabetes</td>\n",
       "      <td>healthy_mature</td>\n",
       "      <td>high_mature</td>\n",
       "      <td>1</td>\n",
       "      <td>22875.0</td>\n",
       "      <td>1464.0</td>\n",
       "    </tr>\n",
       "    <tr>\n",
       "      <th>3</th>\n",
       "      <td>1</td>\n",
       "      <td>89.0</td>\n",
       "      <td>66.0</td>\n",
       "      <td>23.0</td>\n",
       "      <td>94.0</td>\n",
       "      <td>28.1</td>\n",
       "      <td>0.167</td>\n",
       "      <td>21</td>\n",
       "      <td>0</td>\n",
       "      <td>1</td>\n",
       "      <td>overweight</td>\n",
       "      <td>normal</td>\n",
       "      <td>overweight_mature</td>\n",
       "      <td>normal_mature</td>\n",
       "      <td>1</td>\n",
       "      <td>8366.0</td>\n",
       "      <td>89.0</td>\n",
       "    </tr>\n",
       "    <tr>\n",
       "      <th>4</th>\n",
       "      <td>0</td>\n",
       "      <td>137.0</td>\n",
       "      <td>40.0</td>\n",
       "      <td>35.0</td>\n",
       "      <td>168.0</td>\n",
       "      <td>43.1</td>\n",
       "      <td>2.288</td>\n",
       "      <td>33</td>\n",
       "      <td>1</td>\n",
       "      <td>1</td>\n",
       "      <td>obese</td>\n",
       "      <td>normal</td>\n",
       "      <td>obese_mature</td>\n",
       "      <td>high_mature</td>\n",
       "      <td>0</td>\n",
       "      <td>23016.0</td>\n",
       "      <td>0.0</td>\n",
       "    </tr>\n",
       "  </tbody>\n",
       "</table>\n",
       "</div>"
      ],
      "text/plain": [
       "   Pregnancies  Glucose  BloodPressure  SkinThickness  Insulin   BMI  \\\n",
       "0            6    148.0           72.0           35.0    125.0  33.6   \n",
       "1            1     85.0           66.0           29.0    125.0  26.6   \n",
       "2            8    183.0           64.0           29.0    125.0  23.3   \n",
       "3            1     89.0           66.0           23.0     94.0  28.1   \n",
       "4            0    137.0           40.0           35.0    168.0  43.1   \n",
       "\n",
       "   DiabetesPedigreeFunction  Age  Outcome  New_Age     New_BMI  New_Glucose  \\\n",
       "0                     0.627   50        1        0       obese  prediabetes   \n",
       "1                     0.351   31        0        1  overweight       normal   \n",
       "2                     0.672   32        1        1     healthy  prediabetes   \n",
       "3                     0.167   21        0        1  overweight       normal   \n",
       "4                     2.288   33        1        1       obese       normal   \n",
       "\n",
       "         New_Age_BMI New_Age_Glucose  New_Insulin  Glıcose_Insulin  \\\n",
       "0       obese_senior     high_senior            1          18500.0   \n",
       "1  overweight_mature   normal_mature            1          10625.0   \n",
       "2     healthy_mature     high_mature            1          22875.0   \n",
       "3  overweight_mature   normal_mature            1           8366.0   \n",
       "4       obese_mature     high_mature            0          23016.0   \n",
       "\n",
       "   Glıcose_Pregnancies  \n",
       "0                888.0  \n",
       "1                 85.0  \n",
       "2               1464.0  \n",
       "3                 89.0  \n",
       "4                  0.0  "
      ]
     },
     "execution_count": 22,
     "metadata": {},
     "output_type": "execute_result"
    }
   ],
   "source": [
    "data[\"New_Age\"] = [1 if(i >= 21 and i < 50) else 0 for i in data[\"Age\"]]\n",
    "data[\"New_BMI\"] = [\"underweight\" if(i <= 18.5) else \"healthy\" if(i > 18.5 and  i <= 24.9) else \"overweight\" if(i > 24.9 and i <=29.9) else \"obese\" for i in data[\"BMI\"]]\n",
    "data[\"New_Glucose\"] = [\"normal\" if(i <= 140) else \"prediabetes\" if(i > 140 and  i < 190) else \"diabetes\" for i in data[\"Glucose\"]]\n",
    "data[\"New_Age_BMI\"] = [\n",
    "    \"underweight_mature\" if (j <= 18.5 and (i >= 21 and i < 50)) else\n",
    "    \"underweight_senior\" if (j <= 18.5 and i >= 50) else\n",
    "    \"healthy_mature\" if ((j > 18.5 and j <= 24.9) and (i >= 21 and i < 50)) else\n",
    "    \"healthy_senior\" if ((j > 18.5 and j <= 24.9) and i >= 50) else\n",
    "    \"overweight_mature\" if ((j > 24.9 and j <= 29.9) and (i >= 21 and i < 50)) else\n",
    "    \"overweight_senior\" if ((j > 24.9 and j <= 29.9) and i >= 50) else\n",
    "    \"obese_mature\" if (j > 18.5 and (i >= 21 and i < 50)) else\n",
    "    \"obese_senior\" for i, j in zip(data[\"Age\"], data[\"BMI\"])\n",
    "]\n",
    "data[\"New_Age_Glucose\"] = [\n",
    "    \"low_mature\" if (j <= 70 and (i >= 21 and i < 50)) else\n",
    "    \"low_senior\" if (j <= 70 and i >= 50) else\n",
    "    \"normal_mature\" if ((j > 70 and j <= 100) and (i >= 21 and i < 50)) else\n",
    "    \"normal_senior\" if ((j > 70 and j <= 100) and i >= 50) else\n",
    "    \"hidden_mature\" if ((j > 100 and j <= 125) and (i >= 21 and i < 50)) else\n",
    "    \"hidden_senior\" if ((j > 100 and j <= 125) and i >= 50) else\n",
    "    \"high_mature\" if (j > 125 and (i >= 21 and i < 50)) else\n",
    "    \"high_senior\" for i, j in zip(data[\"Age\"], data[\"Glucose\"])\n",
    "]\n",
    "data[\"New_Insulin\"] = [1 if(i >= 16 and i <= 166) else 0 for i in data[\"Insulin\"]]\n",
    "data[\"Glıcose_Insulin\"] = data[\"Glucose\"] * data[\"Insulin\"]\n",
    "data[\"Glıcose_Pregnancies\"] = data[\"Glucose\"] * data[\"Pregnancies\"]\n",
    "\n",
    "data.head()"
   ]
  },
  {
   "cell_type": "markdown",
   "metadata": {},
   "source": [
    "<a id=\"7\" ></a>\n",
    "## One-Hot-Encoder "
   ]
  },
  {
   "cell_type": "code",
   "execution_count": 23,
   "metadata": {},
   "outputs": [
    {
     "data": {
      "text/html": [
       "<div>\n",
       "<style scoped>\n",
       "    .dataframe tbody tr th:only-of-type {\n",
       "        vertical-align: middle;\n",
       "    }\n",
       "\n",
       "    .dataframe tbody tr th {\n",
       "        vertical-align: top;\n",
       "    }\n",
       "\n",
       "    .dataframe thead th {\n",
       "        text-align: right;\n",
       "    }\n",
       "</style>\n",
       "<table border=\"1\" class=\"dataframe\">\n",
       "  <thead>\n",
       "    <tr style=\"text-align: right;\">\n",
       "      <th></th>\n",
       "      <th>Pregnancies</th>\n",
       "      <th>Glucose</th>\n",
       "      <th>BloodPressure</th>\n",
       "      <th>SkinThickness</th>\n",
       "      <th>Insulin</th>\n",
       "      <th>BMI</th>\n",
       "      <th>DiabetesPedigreeFunction</th>\n",
       "      <th>Age</th>\n",
       "      <th>Outcome</th>\n",
       "      <th>New_Age</th>\n",
       "      <th>...</th>\n",
       "      <th>New_Age_BMI_overweight_mature</th>\n",
       "      <th>New_Age_BMI_overweight_senior</th>\n",
       "      <th>New_Age_BMI_underweight_mature</th>\n",
       "      <th>New_Age_Glucose_hidden_senior</th>\n",
       "      <th>New_Age_Glucose_high_mature</th>\n",
       "      <th>New_Age_Glucose_high_senior</th>\n",
       "      <th>New_Age_Glucose_low_mature</th>\n",
       "      <th>New_Age_Glucose_low_senior</th>\n",
       "      <th>New_Age_Glucose_normal_mature</th>\n",
       "      <th>New_Age_Glucose_normal_senior</th>\n",
       "    </tr>\n",
       "  </thead>\n",
       "  <tbody>\n",
       "    <tr>\n",
       "      <th>0</th>\n",
       "      <td>6</td>\n",
       "      <td>148.0</td>\n",
       "      <td>72.0</td>\n",
       "      <td>35.0</td>\n",
       "      <td>125.0</td>\n",
       "      <td>33.6</td>\n",
       "      <td>0.627</td>\n",
       "      <td>50</td>\n",
       "      <td>1</td>\n",
       "      <td>0</td>\n",
       "      <td>...</td>\n",
       "      <td>False</td>\n",
       "      <td>False</td>\n",
       "      <td>False</td>\n",
       "      <td>False</td>\n",
       "      <td>False</td>\n",
       "      <td>True</td>\n",
       "      <td>False</td>\n",
       "      <td>False</td>\n",
       "      <td>False</td>\n",
       "      <td>False</td>\n",
       "    </tr>\n",
       "    <tr>\n",
       "      <th>1</th>\n",
       "      <td>1</td>\n",
       "      <td>85.0</td>\n",
       "      <td>66.0</td>\n",
       "      <td>29.0</td>\n",
       "      <td>125.0</td>\n",
       "      <td>26.6</td>\n",
       "      <td>0.351</td>\n",
       "      <td>31</td>\n",
       "      <td>0</td>\n",
       "      <td>1</td>\n",
       "      <td>...</td>\n",
       "      <td>True</td>\n",
       "      <td>False</td>\n",
       "      <td>False</td>\n",
       "      <td>False</td>\n",
       "      <td>False</td>\n",
       "      <td>False</td>\n",
       "      <td>False</td>\n",
       "      <td>False</td>\n",
       "      <td>True</td>\n",
       "      <td>False</td>\n",
       "    </tr>\n",
       "    <tr>\n",
       "      <th>2</th>\n",
       "      <td>8</td>\n",
       "      <td>183.0</td>\n",
       "      <td>64.0</td>\n",
       "      <td>29.0</td>\n",
       "      <td>125.0</td>\n",
       "      <td>23.3</td>\n",
       "      <td>0.672</td>\n",
       "      <td>32</td>\n",
       "      <td>1</td>\n",
       "      <td>1</td>\n",
       "      <td>...</td>\n",
       "      <td>False</td>\n",
       "      <td>False</td>\n",
       "      <td>False</td>\n",
       "      <td>False</td>\n",
       "      <td>True</td>\n",
       "      <td>False</td>\n",
       "      <td>False</td>\n",
       "      <td>False</td>\n",
       "      <td>False</td>\n",
       "      <td>False</td>\n",
       "    </tr>\n",
       "    <tr>\n",
       "      <th>3</th>\n",
       "      <td>1</td>\n",
       "      <td>89.0</td>\n",
       "      <td>66.0</td>\n",
       "      <td>23.0</td>\n",
       "      <td>94.0</td>\n",
       "      <td>28.1</td>\n",
       "      <td>0.167</td>\n",
       "      <td>21</td>\n",
       "      <td>0</td>\n",
       "      <td>1</td>\n",
       "      <td>...</td>\n",
       "      <td>True</td>\n",
       "      <td>False</td>\n",
       "      <td>False</td>\n",
       "      <td>False</td>\n",
       "      <td>False</td>\n",
       "      <td>False</td>\n",
       "      <td>False</td>\n",
       "      <td>False</td>\n",
       "      <td>True</td>\n",
       "      <td>False</td>\n",
       "    </tr>\n",
       "    <tr>\n",
       "      <th>4</th>\n",
       "      <td>0</td>\n",
       "      <td>137.0</td>\n",
       "      <td>40.0</td>\n",
       "      <td>35.0</td>\n",
       "      <td>168.0</td>\n",
       "      <td>43.1</td>\n",
       "      <td>2.288</td>\n",
       "      <td>33</td>\n",
       "      <td>1</td>\n",
       "      <td>1</td>\n",
       "      <td>...</td>\n",
       "      <td>False</td>\n",
       "      <td>False</td>\n",
       "      <td>False</td>\n",
       "      <td>False</td>\n",
       "      <td>True</td>\n",
       "      <td>False</td>\n",
       "      <td>False</td>\n",
       "      <td>False</td>\n",
       "      <td>False</td>\n",
       "      <td>False</td>\n",
       "    </tr>\n",
       "  </tbody>\n",
       "</table>\n",
       "<p>5 rows × 31 columns</p>\n",
       "</div>"
      ],
      "text/plain": [
       "   Pregnancies  Glucose  BloodPressure  SkinThickness  Insulin   BMI  \\\n",
       "0            6    148.0           72.0           35.0    125.0  33.6   \n",
       "1            1     85.0           66.0           29.0    125.0  26.6   \n",
       "2            8    183.0           64.0           29.0    125.0  23.3   \n",
       "3            1     89.0           66.0           23.0     94.0  28.1   \n",
       "4            0    137.0           40.0           35.0    168.0  43.1   \n",
       "\n",
       "   DiabetesPedigreeFunction  Age  Outcome  New_Age  ...  \\\n",
       "0                     0.627   50        1        0  ...   \n",
       "1                     0.351   31        0        1  ...   \n",
       "2                     0.672   32        1        1  ...   \n",
       "3                     0.167   21        0        1  ...   \n",
       "4                     2.288   33        1        1  ...   \n",
       "\n",
       "   New_Age_BMI_overweight_mature  New_Age_BMI_overweight_senior  \\\n",
       "0                          False                          False   \n",
       "1                           True                          False   \n",
       "2                          False                          False   \n",
       "3                           True                          False   \n",
       "4                          False                          False   \n",
       "\n",
       "   New_Age_BMI_underweight_mature  New_Age_Glucose_hidden_senior  \\\n",
       "0                           False                          False   \n",
       "1                           False                          False   \n",
       "2                           False                          False   \n",
       "3                           False                          False   \n",
       "4                           False                          False   \n",
       "\n",
       "   New_Age_Glucose_high_mature  New_Age_Glucose_high_senior  \\\n",
       "0                        False                         True   \n",
       "1                        False                        False   \n",
       "2                         True                        False   \n",
       "3                        False                        False   \n",
       "4                         True                        False   \n",
       "\n",
       "   New_Age_Glucose_low_mature  New_Age_Glucose_low_senior  \\\n",
       "0                       False                       False   \n",
       "1                       False                       False   \n",
       "2                       False                       False   \n",
       "3                       False                       False   \n",
       "4                       False                       False   \n",
       "\n",
       "   New_Age_Glucose_normal_mature  New_Age_Glucose_normal_senior  \n",
       "0                          False                          False  \n",
       "1                           True                          False  \n",
       "2                          False                          False  \n",
       "3                           True                          False  \n",
       "4                          False                          False  \n",
       "\n",
       "[5 rows x 31 columns]"
      ]
     },
     "execution_count": 23,
     "metadata": {},
     "output_type": "execute_result"
    }
   ],
   "source": [
    "def one_hot_encoder(df, categorical_cols):\n",
    "    df = pd.get_dummies(df, columns=categorical_cols, drop_first=True)\n",
    "    return(df)\n",
    "colums = [col for col in data.columns if(10 >= data[col].nunique() > 2)]\n",
    "\n",
    "data[colums].head()\n",
    "data = one_hot_encoder(data, colums)\n",
    "data.head()"
   ]
  },
  {
   "cell_type": "markdown",
   "metadata": {},
   "source": [
    "<a id=\"8\"></a>\n",
    "## Feature Scaling"
   ]
  },
  {
   "cell_type": "code",
   "execution_count": 24,
   "metadata": {},
   "outputs": [
    {
     "name": "stdout",
     "output_type": "stream",
     "text": [
      "Total Rows : 768\n",
      "Total Column: 31\n",
      "Total Categorical Column : 21\n",
      "Total Numeric Columns : 10\n",
      "Total Categorical Cardinal Column : 0\n",
      "Total Numeric Categorical Column : 21\n"
     ]
    }
   ],
   "source": [
    "numeric = analyze_columns(data)\n",
    "scaler = RobustScaler()\n",
    "data[numeric] = scaler.fit_transform(data[numeric])\n"
   ]
  },
  {
   "cell_type": "code",
   "execution_count": 25,
   "metadata": {},
   "outputs": [
    {
     "data": {
      "text/html": [
       "<div>\n",
       "<style scoped>\n",
       "    .dataframe tbody tr th:only-of-type {\n",
       "        vertical-align: middle;\n",
       "    }\n",
       "\n",
       "    .dataframe tbody tr th {\n",
       "        vertical-align: top;\n",
       "    }\n",
       "\n",
       "    .dataframe thead th {\n",
       "        text-align: right;\n",
       "    }\n",
       "</style>\n",
       "<table border=\"1\" class=\"dataframe\">\n",
       "  <thead>\n",
       "    <tr style=\"text-align: right;\">\n",
       "      <th></th>\n",
       "      <th>Pregnancies</th>\n",
       "      <th>Glucose</th>\n",
       "      <th>BloodPressure</th>\n",
       "      <th>SkinThickness</th>\n",
       "      <th>Insulin</th>\n",
       "      <th>BMI</th>\n",
       "      <th>DiabetesPedigreeFunction</th>\n",
       "      <th>Age</th>\n",
       "      <th>Outcome</th>\n",
       "      <th>New_Age</th>\n",
       "      <th>...</th>\n",
       "      <th>New_Age_BMI_overweight_mature</th>\n",
       "      <th>New_Age_BMI_overweight_senior</th>\n",
       "      <th>New_Age_BMI_underweight_mature</th>\n",
       "      <th>New_Age_Glucose_hidden_senior</th>\n",
       "      <th>New_Age_Glucose_high_mature</th>\n",
       "      <th>New_Age_Glucose_high_senior</th>\n",
       "      <th>New_Age_Glucose_low_mature</th>\n",
       "      <th>New_Age_Glucose_low_senior</th>\n",
       "      <th>New_Age_Glucose_normal_mature</th>\n",
       "      <th>New_Age_Glucose_normal_senior</th>\n",
       "    </tr>\n",
       "  </thead>\n",
       "  <tbody>\n",
       "    <tr>\n",
       "      <th>0</th>\n",
       "      <td>0.6</td>\n",
       "      <td>0.765432</td>\n",
       "      <td>0.000</td>\n",
       "      <td>0.857143</td>\n",
       "      <td>0.000000</td>\n",
       "      <td>0.142857</td>\n",
       "      <td>0.665359</td>\n",
       "      <td>1.235294</td>\n",
       "      <td>1</td>\n",
       "      <td>0</td>\n",
       "      <td>...</td>\n",
       "      <td>False</td>\n",
       "      <td>False</td>\n",
       "      <td>False</td>\n",
       "      <td>False</td>\n",
       "      <td>False</td>\n",
       "      <td>True</td>\n",
       "      <td>False</td>\n",
       "      <td>False</td>\n",
       "      <td>False</td>\n",
       "      <td>False</td>\n",
       "    </tr>\n",
       "    <tr>\n",
       "      <th>1</th>\n",
       "      <td>-0.4</td>\n",
       "      <td>-0.790123</td>\n",
       "      <td>-0.375</td>\n",
       "      <td>0.000000</td>\n",
       "      <td>0.000000</td>\n",
       "      <td>-0.626374</td>\n",
       "      <td>-0.056209</td>\n",
       "      <td>0.117647</td>\n",
       "      <td>0</td>\n",
       "      <td>1</td>\n",
       "      <td>...</td>\n",
       "      <td>True</td>\n",
       "      <td>False</td>\n",
       "      <td>False</td>\n",
       "      <td>False</td>\n",
       "      <td>False</td>\n",
       "      <td>False</td>\n",
       "      <td>False</td>\n",
       "      <td>False</td>\n",
       "      <td>True</td>\n",
       "      <td>False</td>\n",
       "    </tr>\n",
       "    <tr>\n",
       "      <th>2</th>\n",
       "      <td>1.0</td>\n",
       "      <td>1.629630</td>\n",
       "      <td>-0.500</td>\n",
       "      <td>0.000000</td>\n",
       "      <td>0.000000</td>\n",
       "      <td>-0.989011</td>\n",
       "      <td>0.783007</td>\n",
       "      <td>0.176471</td>\n",
       "      <td>1</td>\n",
       "      <td>1</td>\n",
       "      <td>...</td>\n",
       "      <td>False</td>\n",
       "      <td>False</td>\n",
       "      <td>False</td>\n",
       "      <td>False</td>\n",
       "      <td>True</td>\n",
       "      <td>False</td>\n",
       "      <td>False</td>\n",
       "      <td>False</td>\n",
       "      <td>False</td>\n",
       "      <td>False</td>\n",
       "    </tr>\n",
       "    <tr>\n",
       "      <th>3</th>\n",
       "      <td>-0.4</td>\n",
       "      <td>-0.691358</td>\n",
       "      <td>-0.375</td>\n",
       "      <td>-0.857143</td>\n",
       "      <td>-5.391304</td>\n",
       "      <td>-0.461538</td>\n",
       "      <td>-0.537255</td>\n",
       "      <td>-0.470588</td>\n",
       "      <td>0</td>\n",
       "      <td>1</td>\n",
       "      <td>...</td>\n",
       "      <td>True</td>\n",
       "      <td>False</td>\n",
       "      <td>False</td>\n",
       "      <td>False</td>\n",
       "      <td>False</td>\n",
       "      <td>False</td>\n",
       "      <td>False</td>\n",
       "      <td>False</td>\n",
       "      <td>True</td>\n",
       "      <td>False</td>\n",
       "    </tr>\n",
       "    <tr>\n",
       "      <th>4</th>\n",
       "      <td>-0.6</td>\n",
       "      <td>0.493827</td>\n",
       "      <td>-2.000</td>\n",
       "      <td>0.857143</td>\n",
       "      <td>7.478261</td>\n",
       "      <td>1.186813</td>\n",
       "      <td>5.007843</td>\n",
       "      <td>0.235294</td>\n",
       "      <td>1</td>\n",
       "      <td>1</td>\n",
       "      <td>...</td>\n",
       "      <td>False</td>\n",
       "      <td>False</td>\n",
       "      <td>False</td>\n",
       "      <td>False</td>\n",
       "      <td>True</td>\n",
       "      <td>False</td>\n",
       "      <td>False</td>\n",
       "      <td>False</td>\n",
       "      <td>False</td>\n",
       "      <td>False</td>\n",
       "    </tr>\n",
       "  </tbody>\n",
       "</table>\n",
       "<p>5 rows × 31 columns</p>\n",
       "</div>"
      ],
      "text/plain": [
       "   Pregnancies   Glucose  BloodPressure  SkinThickness   Insulin       BMI  \\\n",
       "0          0.6  0.765432          0.000       0.857143  0.000000  0.142857   \n",
       "1         -0.4 -0.790123         -0.375       0.000000  0.000000 -0.626374   \n",
       "2          1.0  1.629630         -0.500       0.000000  0.000000 -0.989011   \n",
       "3         -0.4 -0.691358         -0.375      -0.857143 -5.391304 -0.461538   \n",
       "4         -0.6  0.493827         -2.000       0.857143  7.478261  1.186813   \n",
       "\n",
       "   DiabetesPedigreeFunction       Age  Outcome  New_Age  ...  \\\n",
       "0                  0.665359  1.235294        1        0  ...   \n",
       "1                 -0.056209  0.117647        0        1  ...   \n",
       "2                  0.783007  0.176471        1        1  ...   \n",
       "3                 -0.537255 -0.470588        0        1  ...   \n",
       "4                  5.007843  0.235294        1        1  ...   \n",
       "\n",
       "   New_Age_BMI_overweight_mature  New_Age_BMI_overweight_senior  \\\n",
       "0                          False                          False   \n",
       "1                           True                          False   \n",
       "2                          False                          False   \n",
       "3                           True                          False   \n",
       "4                          False                          False   \n",
       "\n",
       "   New_Age_BMI_underweight_mature  New_Age_Glucose_hidden_senior  \\\n",
       "0                           False                          False   \n",
       "1                           False                          False   \n",
       "2                           False                          False   \n",
       "3                           False                          False   \n",
       "4                           False                          False   \n",
       "\n",
       "   New_Age_Glucose_high_mature  New_Age_Glucose_high_senior  \\\n",
       "0                        False                         True   \n",
       "1                        False                        False   \n",
       "2                         True                        False   \n",
       "3                        False                        False   \n",
       "4                         True                        False   \n",
       "\n",
       "   New_Age_Glucose_low_mature  New_Age_Glucose_low_senior  \\\n",
       "0                       False                       False   \n",
       "1                       False                       False   \n",
       "2                       False                       False   \n",
       "3                       False                       False   \n",
       "4                       False                       False   \n",
       "\n",
       "   New_Age_Glucose_normal_mature  New_Age_Glucose_normal_senior  \n",
       "0                          False                          False  \n",
       "1                           True                          False  \n",
       "2                          False                          False  \n",
       "3                           True                          False  \n",
       "4                          False                          False  \n",
       "\n",
       "[5 rows x 31 columns]"
      ]
     },
     "execution_count": 25,
     "metadata": {},
     "output_type": "execute_result"
    }
   ],
   "source": [
    "data.head() "
   ]
  },
  {
   "cell_type": "markdown",
   "metadata": {},
   "source": [
    "<a id=\"9\" ></a>\n",
    "## Model Training"
   ]
  },
  {
   "cell_type": "code",
   "execution_count": 26,
   "metadata": {},
   "outputs": [
    {
     "name": "stdout",
     "output_type": "stream",
     "text": [
      "accuracy : 0.78\n"
     ]
    }
   ],
   "source": [
    "X = data.drop(\"Outcome\", axis=1)\n",
    "y = data[\"Outcome\"]\n",
    "\n",
    "X_train, X_test, y_train, y_test = train_test_split(X, y, test_size=0.3, random_state=17)\n",
    "\n",
    "model = RandomForestClassifier()\n",
    "model.fit(X_train, y_train)\n",
    "y_pred = model.predict(X_test)\n",
    "\n",
    "print(f\"accuracy : {round(accuracy_score( y_test, y_pred), 2)}\")"
   ]
  },
  {
   "cell_type": "code",
   "execution_count": 27,
   "metadata": {},
   "outputs": [
    {
     "name": "stdout",
     "output_type": "stream",
     "text": [
      "accuracy : 0.79\n"
     ]
    }
   ],
   "source": [
    "import xgboost as xgb\n",
    "model = xgb.XGBClassifier()\n",
    "model.fit(X_train, y_train)\n",
    "y_pred = model.predict(X_test)\n",
    "\n",
    "print(f\"accuracy : {round(accuracy_score( y_test, y_pred), 2)}\")"
   ]
  },
  {
   "cell_type": "code",
   "execution_count": 28,
   "metadata": {},
   "outputs": [
    {
     "name": "stdout",
     "output_type": "stream",
     "text": [
      "accuracy: 0.41\n"
     ]
    }
   ],
   "source": [
    "from sklearn.naive_bayes import GaussianNB \n",
    "model = GaussianNB()  \n",
    "model.fit(X_train, y_train)\n",
    "y_pred = model.predict(X_test)\n",
    "\n",
    "print(f\"accuracy: {round(accuracy_score( y_test, y_pred), 2)}\")"
   ]
  },
  {
   "cell_type": "code",
   "execution_count": 29,
   "metadata": {},
   "outputs": [
    {
     "name": "stdout",
     "output_type": "stream",
     "text": [
      "accuracy : 0.71\n"
     ]
    }
   ],
   "source": [
    "from sklearn.svm import SVC\n",
    "model = SVC(kernel=\"rbf\", gamma=0.5, C=1.0)  \n",
    "model.fit(X_train, y_train)\n",
    "y_pred = model.predict(X_test)\n",
    "\n",
    "print(f\"accuracy : {round(accuracy_score( y_test, y_pred), 2)}\")"
   ]
  },
  {
   "cell_type": "code",
   "execution_count": 30,
   "metadata": {},
   "outputs": [
    {
     "name": "stdout",
     "output_type": "stream",
     "text": [
      "accuracy : 0.76\n"
     ]
    }
   ],
   "source": [
    "from sklearn.linear_model import LogisticRegression\n",
    "model = LogisticRegression()  \n",
    "model.fit(X_train, y_train)\n",
    "y_pred = model.predict(X_test)\n",
    "\n",
    "print(f\"accuracy : {round(accuracy_score( y_test, y_pred), 2)}\")"
   ]
  },
  {
   "cell_type": "code",
   "execution_count": 31,
   "metadata": {},
   "outputs": [
    {
     "data": {
      "image/png": "[encoded data removed]",
      "text/plain": [
       "<Figure size 1000x600 with 1 Axes>"
      ]
     },
     "metadata": {},
     "output_type": "display_data"
    }
   ],
   "source": [
    "from sklearn.metrics import roc_curve, auc\n",
    "classifiers = {\n",
    "    \"Random Forest\": RandomForestClassifier(),\n",
    "    \"SVM\": SVC(probability=True),\n",
    "    \"Logistic Regression\": LogisticRegression(),\n",
    "    \"GaussianNB\" : GaussianNB(),\n",
    "    \"XGB\" : xgb.XGBClassifier()\n",
    "}\n",
    "\n",
    "# Plot ROC curves for each classifier\n",
    "plt.figure(figsize=(10, 6))\n",
    "for name, clf in classifiers.items():\n",
    "    clf.fit(X_train, y_train)\n",
    "    y_score = clf.predict_proba(X_test)[:, 1]\n",
    "    fpr, tpr, _ = roc_curve(y_test, y_score)\n",
    "    roc_auc = auc(fpr, tpr)\n",
    "    plt.plot(fpr, tpr, label='%s (AUC = %0.2f)' % (name, roc_auc))\n",
    "\n",
    "plt.plot([0, 1], [0, 1], color='navy', linestyle='--')\n",
    "plt.xlim([0.0, 1.0])\n",
    "plt.ylim([0.0, 1.05])\n",
    "plt.xlabel('False Positive Rate')\n",
    "plt.ylabel('True Positive Rate')\n",
    "plt.title('Receiver Operating Characteristic (ROC) Curve')\n",
    "plt.legend(loc=\"lower right\")\n",
    "\n",
    "plt.show()"
   ]
  },
  {
   "cell_type": "code",
   "execution_count": 32,
   "metadata": {},
   "outputs": [
    {
     "data": {
      "image/png": "[encoded data removed]",
      "text/plain": [
       "<Figure size 1000x600 with 1 Axes>"
      ]
     },
     "metadata": {},
     "output_type": "display_data"
    }
   ],
   "source": [
    "plt.figure(figsize=(10, 6))\n",
    "accuracy_scores = []\n",
    "bars = []\n",
    "for name, clf in classifiers.items():\n",
    "    clf.fit(X_train, y_train)\n",
    "    y_pred = clf.predict(X_test)\n",
    "    accuracy = accuracy_score(y_test, y_pred)\n",
    "    accuracy_scores.append((name, accuracy))\n",
    "    bar = plt.barh(name, accuracy, color='skyblue')\n",
    "    bars.append(bar)\n",
    "    plt.text(accuracy, bar[0].get_y() + bar[0].get_height()/2, f'{accuracy:.2f}', \n",
    "             va='center', ha='left')\n",
    "\n",
    "plt.xlabel('Accuracy')\n",
    "plt.title('Classifier Accuracy')\n",
    "\n",
    "plt.tight_layout()\n",
    "plt.show()"
   ]
  },
  {
   "cell_type": "code",
   "execution_count": 33,
   "metadata": {},
   "outputs": [
    {
     "ename": "AttributeError",
     "evalue": "'LogisticRegression' object has no attribute 'feature_importances_'",
     "output_type": "error",
     "traceback": [
      "\u001b[1;31m---------------------------------------------------------------------------\u001b[0m",
      "\u001b[1;31mAttributeError\u001b[0m                            Traceback (most recent call last)",
      "Cell \u001b[1;32mIn[33], line 7\u001b[0m\n\u001b[0;32m      5\u001b[0m     sns\u001b[38;5;241m.\u001b[39mbarplot(data\u001b[38;5;241m=\u001b[39mfeature_imp\u001b[38;5;241m.\u001b[39msort_values(by\u001b[38;5;241m=\u001b[39m\u001b[38;5;124m\"\u001b[39m\u001b[38;5;124mValue\u001b[39m\u001b[38;5;124m\"\u001b[39m, ascending\u001b[38;5;241m=\u001b[39m\u001b[38;5;28;01mFalse\u001b[39;00m)[\u001b[38;5;241m0\u001b[39m:num], x\u001b[38;5;241m=\u001b[39m\u001b[38;5;124m\"\u001b[39m\u001b[38;5;124mValue\u001b[39m\u001b[38;5;124m\"\u001b[39m, y\u001b[38;5;241m=\u001b[39m\u001b[38;5;124m\"\u001b[39m\u001b[38;5;124mFeatures\u001b[39m\u001b[38;5;124m\"\u001b[39m)\n\u001b[0;32m      6\u001b[0m     plt\u001b[38;5;241m.\u001b[39mshow()\n\u001b[1;32m----> 7\u001b[0m \u001b[43mplot_importance\u001b[49m\u001b[43m(\u001b[49m\u001b[43mmodel\u001b[49m\u001b[43m,\u001b[49m\u001b[43m \u001b[49m\u001b[43mX\u001b[49m\u001b[43m,\u001b[49m\u001b[43m \u001b[49m\u001b[38;5;28;43mlen\u001b[39;49m\u001b[43m(\u001b[49m\u001b[43mX\u001b[49m\u001b[43m)\u001b[49m\u001b[43m)\u001b[49m\n\u001b[0;32m      8\u001b[0m \u001b[38;5;66;03m# Result: Glucose*Insulin took its place as the variable that highly affects the success of the model.\u001b[39;00m\n\u001b[0;32m      9\u001b[0m \u001b[38;5;66;03m# New_Age_Glucose has become a variable that reduces success, so it should be removed and evaluated\u001b[39;00m\n",
      "Cell \u001b[1;32mIn[33], line 2\u001b[0m, in \u001b[0;36mplot_importance\u001b[1;34m(model, features, num)\u001b[0m\n\u001b[0;32m      1\u001b[0m \u001b[38;5;28;01mdef\u001b[39;00m \u001b[38;5;21mplot_importance\u001b[39m(model, features, num):\n\u001b[1;32m----> 2\u001b[0m     feature_imp \u001b[38;5;241m=\u001b[39m pd\u001b[38;5;241m.\u001b[39mDataFrame({\u001b[38;5;124m\"\u001b[39m\u001b[38;5;124mValue\u001b[39m\u001b[38;5;124m\"\u001b[39m : \u001b[43mmodel\u001b[49m\u001b[38;5;241;43m.\u001b[39;49m\u001b[43mfeature_importances_\u001b[49m, \n\u001b[0;32m      3\u001b[0m                                 \u001b[38;5;124m\"\u001b[39m\u001b[38;5;124mFeatures\u001b[39m\u001b[38;5;124m\"\u001b[39m : features\u001b[38;5;241m.\u001b[39mcolumns})\n\u001b[0;32m      4\u001b[0m     plt\u001b[38;5;241m.\u001b[39mfigure(figsize\u001b[38;5;241m=\u001b[39m(\u001b[38;5;241m10\u001b[39m,\u001b[38;5;241m10\u001b[39m))\n\u001b[0;32m      5\u001b[0m     sns\u001b[38;5;241m.\u001b[39mbarplot(data\u001b[38;5;241m=\u001b[39mfeature_imp\u001b[38;5;241m.\u001b[39msort_values(by\u001b[38;5;241m=\u001b[39m\u001b[38;5;124m\"\u001b[39m\u001b[38;5;124mValue\u001b[39m\u001b[38;5;124m\"\u001b[39m, ascending\u001b[38;5;241m=\u001b[39m\u001b[38;5;28;01mFalse\u001b[39;00m)[\u001b[38;5;241m0\u001b[39m:num], x\u001b[38;5;241m=\u001b[39m\u001b[38;5;124m\"\u001b[39m\u001b[38;5;124mValue\u001b[39m\u001b[38;5;124m\"\u001b[39m, y\u001b[38;5;241m=\u001b[39m\u001b[38;5;124m\"\u001b[39m\u001b[38;5;124mFeatures\u001b[39m\u001b[38;5;124m\"\u001b[39m)\n",
      "\u001b[1;31mAttributeError\u001b[0m: 'LogisticRegression' object has no attribute 'feature_importances_'"
     ]
    }
   ],
   "source": [
    "def plot_importance(model, features, num):\n",
    "    feature_imp = pd.DataFrame({\"Value\" : model.feature_importances_, \n",
    "                                \"Features\" : features.columns})\n",
    "    plt.figure(figsize=(10,10))\n",
    "    sns.barplot(data=feature_imp.sort_values(by=\"Value\", ascending=False)[0:num], x=\"Value\", y=\"Features\")\n",
    "    plt.show()\n",
    "plot_importance(model, X, len(X))\n",
    "# Result: Glucose*Insulin took its place as the variable that highly affects the success of the model.\n",
    "# New_Age_Glucose has become a variable that reduces success, so it should be removed and evaluated"
   ]
  }
 ],
 "metadata": {
  "kaggle": {
   "accelerator": "none",
   "dataSources": [
    {
     "datasetId": 228,
     "sourceId": 482,
     "sourceType": "datasetVersion"
    }
   ],
   "dockerImageVersionId": 30646,
   "isGpuEnabled": false,
   "isInternetEnabled": true,
   "language": "python",
   "sourceType": "notebook"
  },
  "kernelspec": {
   "display_name": "Python 3 (ipykernel)",
   "language": "python",
   "name": "python3"
  },
  "language_info": {
   "codemirror_mode": {
    "name": "ipython",
    "version": 3
   },
   "file_extension": ".py",
   "mimetype": "text/x-python",
   "name": "python",
   "nbconvert_exporter": "python",
   "pygments_lexer": "ipython3",
   "version": "3.11.5"
  }
 },
 "nbformat": 4,
 "nbformat_minor": 4
}
